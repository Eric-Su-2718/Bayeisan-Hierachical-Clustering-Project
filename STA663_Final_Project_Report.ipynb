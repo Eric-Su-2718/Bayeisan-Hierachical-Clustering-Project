{
 "cells": [
  {
   "cell_type": "markdown",
   "metadata": {},
   "source": [
    "# STA663 Final Project Report"
   ]
  },
  {
   "cell_type": "markdown",
   "metadata": {},
   "source": [
    "### Abstract"
   ]
  },
  {
   "cell_type": "markdown",
   "metadata": {},
   "source": [
    "We implement the Bayesian hierarchical clustering algorithm described in the paper by Heller and Ghahramani (2005) and optimized the algorithm's speed using Cython. We applied the optimized algorithm to a simulated dataset and real world datasets. We compared the performance of Bayesian hierarchical clustering to a traditional hierarchical clustering and K-means clustering using a purity score of clusters."
   ]
  },
  {
   "cell_type": "markdown",
   "metadata": {},
   "source": [
    "### Background"
   ]
  },
  {
   "cell_type": "markdown",
   "metadata": {},
   "source": [
    "Hierarchical clustering is an unsupervised learning algorithm that organizes data into a binary tree. By cutting the tree at various heights, one can acquire clustering structures of the data. The traditional hierarchical clustering algorithm is the  agglomerative hierarchical clustering method. This algorithm starts with each data point being in it's own cluster and uses a bottom-up approach of iteratively merging the most similar clusters until all the data has been grouped into one cluster. The similarity of clusters is evaluated using a pre-specified distance measure (e.g. Euclidean distance).\n",
    "\n",
    "The major drawback of the traditional hierarchical clustering method is that it does not provide intuitive guidance to choosing the correct number of clusters or the appropriate distance measure. Furthermore, the algorithm does not define a probabilistic model for the data, thus it is not able to give predictions or cluster new data points into existing clusters.\n",
    "\n",
    "Heller and Ghahramani (2005) proposed the Bayesian hierarchical clustering model to overcome those aforementioned problems. The model is similar to the traditional hierarchical clustering method, but Bayesian hierarchical clustering merges data using the marginal likelihood of data. The major advantage of Bayesian hierarchical clustering over the traditional method is that it has a natural way to choose the correct number of clusters, and it can also give predictions of the probability of assigning new data into existing clusters. On the other hand, the disadvantage of the algorithm is that it is more computationally intensive since it requires calculating the marginal likelihood at each step. Bayesian hierarchical clustering works best when the user has no prior knowledge on the number of clusters or when the user wants to predict the probability of new data belonging to any existing clusters."
   ]
  },
  {
   "cell_type": "markdown",
   "metadata": {},
   "source": [
    "### Description of algorithm"
   ]
  },
  {
   "cell_type": "markdown",
   "metadata": {
    "collapsed": true
   },
   "source": [
    "The Bayesian hierarchical clustering algorithm starts with every data point being in its own node. Afterwards, it iteratively merge the nodes with the highest merge probability until there is only a single node left (all data points in the same node). Merge probability is defined as the the ratio of the marginal likelihood of the two nodes being in the same cluster against the marginal likelihood of the nodes being partitioned in all possible ways which does not violate the existing tree structure. The tree can then be cut at the step where the merge probability is less than 50%.\n",
    "\n",
    "In mathematical terms, if we represent the hypothesis that the nodes are in the same cluster by $H_1^k$ and the tree structure using $T$, then we can write our the algorithm:\n",
    "\n",
    "1.Input: data = {$x^{(1)}, ..., x^{(n)}$}, model(likelihood) $p(x \\mid \\theta)$, prior $p(\\theta \\mid \\beta)$\n",
    "\n",
    "2.Initialize: number of clusters $c = n$, $D_i = $ {$x^{(i)}$} for $i = 1, ..., n$\n",
    "\n",
    "3.while $c > 1$ do\n",
    "\n",
    "Find the pair of clusters $D_i$ and $D_j$ that has the highest merge probability: $r_k = \\frac{\\pi_k p(D_k \\mid H_1^k)}{p(D_k \\mid T_k)}$ \n",
    "        \n",
    "Merge $D_i, D_j$ into $D_k$, $T_i$, and $T_j$ into $T_k$\n",
    "\n",
    "Delete $D_i, D_j$ and $c = c - 1$\n",
    "\n",
    "end while\n",
    "\n",
    "To calculate the merge probabilities, we need to compute $p(D_k \\mid T_k)$, which is\n",
    "$$\n",
    "p(D_k \\mid T_k) = \\pi_k p(D_k \\mid H_1^k) + (1 - \\pi_k) p(D_i \\mid T_i)p(D_j \\mid T_j)\n",
    "$$\n",
    "The term $\\pi_k$ can be calculated by\n",
    "\n",
    "1.Initialize: each leaf $i$ with $d_i = \\alpha, \\pi_i = 1$ \n",
    "\n",
    "2.for each internal node $k$ do\n",
    "\n",
    "$d_k = \\alpha \\Gamma(n_k) + d_{left_k}d_{right_k}$\n",
    "\n",
    "$\\pi_k = \\frac{\\alpha \\Gamma(n_k)}{d_k}$\n",
    "\n",
    "end for"
   ]
  },
  {
   "cell_type": "markdown",
   "metadata": {},
   "source": [
    "### Optimization for performance"
   ]
  },
  {
   "cell_type": "markdown",
   "metadata": {},
   "source": [
    "We optimized the algorithm using Cython. We mainly defined variables before we assigned values to them using cdef int, cdef double, and cdef np.ndarray. This led to a reduction in variables' interaction with Python, giving us an increase in speed. \n",
    "\n",
    "In addition to optimization, we also addressed a numerical stability issue. We realized that our initial code was raising error due to a division error. We realized that this could be fixed by taking log when calculating likelihood and other parameters. Taking log guaranteed a better numerical stability, as shown in the code below."
   ]
  },
  {
   "cell_type": "code",
   "execution_count": 1,
   "metadata": {},
   "outputs": [],
   "source": [
    "%load_ext cython"
   ]
  },
  {
   "cell_type": "code",
   "execution_count": 107,
   "metadata": {},
   "outputs": [],
   "source": [
    "%%cython\n",
    "import numpy as np\n",
    "import itertools as it\n",
    "from scipy.special import gamma\n",
    "from scipy.special import multigammaln\n",
    "from numpy.math cimport INFINITY\n",
    "from scipy.stats import multivariate_normal\n",
    "cimport numpy as np\n",
    "\n",
    "\n",
    "def BHC_cython(data, log_likelihood, alpha):\n",
    "    \"\"\"`\n",
    "    Bayesian hierarchical clustering algorithm, direct implementation from paper.\n",
    "    \n",
    "    Parameters\n",
    "    ----------\n",
    "    data : 2D numpy array\n",
    "        Data with rows as observations and columns as variables.\n",
    "    log_likelihood : function\n",
    "        Function that returns the log marginal likelihood of data in BHC model.\n",
    "    alpha : float\n",
    "        Concentration parameter in model.\n",
    "        \n",
    "    Returns\n",
    "    -------\n",
    "    T_record : list(list(int))\n",
    "        Cluster structure in each iteration.\n",
    "    rk_record : list(float)\n",
    "        Merge probability (rk) in each iteration.\n",
    "    \"\"\"\n",
    "    \n",
    "    cdef int n, c, i, j\n",
    "    cdef float max_rk\n",
    "    cdef int merge_index1, merge_index2\n",
    "    cdef double log_pi_k, log_rk\n",
    "    cdef int node_index, item_index\n",
    "    cdef double log_likelihood_i, log_likelihood_j, log_likelihood_k\n",
    "\n",
    "    \n",
    "    n = data.shape[0]\n",
    "    p = data.shape[1]\n",
    "    c = n\n",
    "    D = dict((index, Node(obs.reshape(-1, p), alpha)) for index, obs in enumerate(data))\n",
    "    T = list(range(n))\n",
    "    T_record = list(T)\n",
    "    rk_record = [1]\n",
    "    \n",
    "    while c > 1:\n",
    "        max_rk = -INFINITY\n",
    "        node_merge = None\n",
    "        merge_index1 = -1\n",
    "        merge_index2 = -1\n",
    "        \n",
    "        for i, j in it.combinations(D.keys(), 2):\n",
    "            Di = D[i]\n",
    "            Dj = D[j]\n",
    "            Dk = Node.merge_node(Di, Dj)\n",
    "            \n",
    "            log_likelihood_i = log_likelihood(Di.data)\n",
    "            log_likelihood_j = log_likelihood(Dj.data)\n",
    "            log_likelihood_k = log_likelihood(Dk.data)\n",
    "            \n",
    "            log_pi_k = Dk.log_pi_k\n",
    "\n",
    "            log_rk = (log_pi_k + log_likelihood_k) - np.logaddexp((log_pi_k + log_likelihood_k), np.log(1 - np.exp(log_pi_k)) + log_likelihood_i + log_likelihood_j)\n",
    "\n",
    "            if np.exp(log_rk) > max_rk:\n",
    "                max_rk = np.exp(log_rk)\n",
    "                node_merge = Dk\n",
    "                merge_index1 = i\n",
    "                merge_index2 = j\n",
    "                \n",
    "        #delete merged nodes and store new node\n",
    "        del D[merge_index2]\n",
    "        D[merge_index1] = node_merge\n",
    "\n",
    "        #store the current tree structure and value of rk\n",
    "        for item_index, node_index in enumerate(T):\n",
    "            if node_index == merge_index2:\n",
    "                T[item_index] = merge_index1\n",
    "        T_record.append(list(T))\n",
    "        rk_record.append(max_rk)\n",
    "        \n",
    "        c -= 1\n",
    "        \n",
    "    return T_record, rk_record\n",
    "        \n",
    "\n",
    "class Node(object):\n",
    "    \"\"\"\n",
    "    Node class used in Bayesian hierarchical clustering algorithm. Main purpose is to store values of dk and pi_k for each node.\n",
    "    \n",
    "    Attributes\n",
    "    ----------\n",
    "    data : 2D numpy array\n",
    "        Data with rows as observations and columns as variables.\n",
    "    dk : float\n",
    "        Some kind of number for computing probabilities\n",
    "    pi_k : float\n",
    "        For to compute merge probability\n",
    "        \n",
    "    Methods\n",
    "    -------\n",
    "    __init__(self, data, likelihood, alpha = 1)\n",
    "        Instantiation operation.\n",
    "    merge_node(cls, node1, node2, alpha = 1)\n",
    "        Method that merges two Nodes into one new Node and return the new Node.\n",
    "    \"\"\"\n",
    "    \n",
    "    def __init__(self, data, alpha = 1, log_dk = 0, log_pi_k = 0):\n",
    "        \"\"\"\n",
    "        Instantiation operation.\n",
    "        \n",
    "        Parameters\n",
    "        ----------\n",
    "        data : 2D numpy array\n",
    "            Data with rows as observations and columns as variables.\n",
    "        likelihood : function\n",
    "            Function that returns the likelihood of data, sampling distribution in BHC model.\n",
    "        alpha : float\n",
    "            Concentration parameter in model.\n",
    "        log_dk : float\n",
    "            Cached probability variable. Do not define if the node is a leaf.\n",
    "        log_pi : float\n",
    "            Cached probability variable. Do not define if the node is a leaf.\n",
    "        \"\"\"\n",
    "        \n",
    "        #initialized according to paper\n",
    "        self.data = data\n",
    "        self.log_dk = log_dk\n",
    "        self.log_pi_k = log_pi_k\n",
    "\n",
    "    @classmethod\n",
    "    def merge_node(cls, node1, node2, alpha = 1):\n",
    "        \"\"\"\n",
    "        Merge two Nodes into one new Node and return the new Node.\n",
    "        \n",
    "        Parameters\n",
    "        ----------\n",
    "        node1 : Node\n",
    "            First Node.\n",
    "        node2 : Node\n",
    "            Second Node.\n",
    "        \"\"\"\n",
    "\n",
    "        cdef np.ndarray[dtype = double, ndim = 2] data\n",
    "        cdef double nk\n",
    "        \n",
    "        data = np.vstack((node1.data, node2.data))\n",
    "\n",
    "        nk = data.shape[0]\n",
    "        log_dk = np.logaddexp(np.log(alpha) + np.log(gamma(nk)), node1.log_dk + node2.log_dk)\n",
    "        log_pi_k = np.log(alpha) + np.log(gamma(nk)) - log_dk\n",
    "\n",
    "        return cls(data, alpha, log_dk, log_pi_k)"
   ]
  },
  {
   "cell_type": "markdown",
   "metadata": {},
   "source": [
    "### Applications to simulated data sets\n",
    "We generated samples from a mixture of bivariate normal distributions with different means and variances, as shown in the plot below."
   ]
  },
  {
   "cell_type": "code",
   "execution_count": 146,
   "metadata": {},
   "outputs": [],
   "source": [
    "n = 10\n",
    "y1 = np.random.multivariate_normal([0, 0], np.eye(2) * 0.1, n)\n",
    "y2 = np.random.multivariate_normal([3, 0], np.eye(2) * 0.3, n)\n",
    "y3 = np.random.multivariate_normal([0, 3], np.eye(2) * 0.5, n)\n",
    "y4 = np.random.multivariate_normal([-3, 3], np.eye(2) * 0.7, n)\n",
    "y5 = np.random.multivariate_normal([0, -3], np.eye(2) * 0.9, n)\n",
    "simu_true_cluster = np.repeat(list(range(1, 6)), 10)\n",
    "\n",
    "simulate_data = np.vstack((y1, y2, y3, y4, y5))"
   ]
  },
  {
   "cell_type": "code",
   "execution_count": 147,
   "metadata": {},
   "outputs": [
    {
     "data": {
      "image/png": "[encoded data removed]",
      "text/plain": [
       "<Figure size 432x288 with 1 Axes>"
      ]
     },
     "metadata": {
      "needs_background": "light"
     },
     "output_type": "display_data"
    }
   ],
   "source": [
    "import matplotlib.pyplot as plt\n",
    "plt.scatter(simulate_data[:, 0], simulate_data[:, 1], s = 50)\n",
    "plt.show()"
   ]
  },
  {
   "cell_type": "markdown",
   "metadata": {},
   "source": [
    "Next, we applied our Bayesian hierarchical clustering algorithm to this simulated dataset. Cutting the tree at $r_k < 0.5$, the algorithm identified 4 clusters. The mean cluster purity scores is around 85%. We generated the data from a Guassian mixture of 5 components, but the algorithm suggests 4 clusters. This might be due to two clusters being close to each other."
   ]
  },
  {
   "cell_type": "code",
   "execution_count": 148,
   "metadata": {},
   "outputs": [],
   "source": [
    "%matplotlib inline\n",
    "import numpy as np\n",
    "import pandas as pd"
   ]
  },
  {
   "cell_type": "code",
   "execution_count": 149,
   "metadata": {},
   "outputs": [],
   "source": [
    "def purity_score(cluster_true, cluster_pred):\n",
    "    \"\"\"\n",
    "    Function that returns the purity scores of each cluster given the predicted clusters and the true clusters\n",
    "    \"\"\"\n",
    "    \n",
    "    def most_common(lst):\n",
    "        \"\"\"Helper function that finds the most frequent item in a list\"\"\"\n",
    "        return max(set(lst), key = lst.count)\n",
    "    \n",
    "    purity = []\n",
    "    for cluster in set(cluster_pred):\n",
    "        np.where(np.array(cluster_pred) == cluster)\n",
    "        cluster_element = [cluster_true[index] for index in np.where(np.array(cluster_pred) == cluster)[0]]\n",
    "        dominant_item = most_common(cluster_element)\n",
    "        purity.append(cluster_element.count(dominant_item) / len(cluster_element))\n",
    "        \n",
    "    return purity"
   ]
  },
  {
   "cell_type": "code",
   "execution_count": 150,
   "metadata": {},
   "outputs": [],
   "source": [
    "from scipy.special import multigammaln\n",
    "import numpy as np\n",
    "from numpy.linalg import slogdet\n",
    "\n",
    "def log_Multinorm_post_marginal_likelihood(mu_0, kappa_0, nu_0, Psi_0):\n",
    "    \"\"\"\n",
    "    Returns a function that computes the marginal likelihood \n",
    "    for a Normal-inverse-Wishart model with specifies data and prior parameters.\n",
    "    \"\"\"\n",
    "        \n",
    "    def log_marginal_likelihood(data):\n",
    "        \n",
    "        n = data.shape[0]\n",
    "        p = data.shape[1]\n",
    "        xbar = data.mean(axis = 0)\n",
    "    \n",
    "        #update posterior parameters\n",
    "        kappa_n = kappa_0 + n\n",
    "        mu_n = (kappa_0 * mu_0 + n * xbar) / kappa_n\n",
    "        nu_n = nu_0 + n\n",
    "    \n",
    "        if (n == 1):\n",
    "            C = np.zeros((p, p))\n",
    "        else:\n",
    "            C = (n - 1) * np.cov(data.T)\n",
    "        Psi_n = Psi_0 + C + ((n * kappa_0) / (kappa_n)) * np.dot((xbar - mu_0).reshape(-1, p).T, (xbar - mu_0).reshape(-1, p))\n",
    "        \n",
    "        s, ldet_psi0 = slogdet(Psi_0)\n",
    "        s, ldet_psin = slogdet(Psi_n)\n",
    "        \n",
    "        return -(n * p / 2) * np.log(np.pi) + multigammaln(nu_n / 2, p) - multigammaln(nu_0 / 2, p) + (nu_0 / 2) * ldet_psi0 - (nu_n / 2) * ldet_psin + (p / 2) * (np.log(kappa_0) - np.log(kappa_n))\n",
    "\n",
    "    return log_marginal_likelihood\n"
   ]
  },
  {
   "cell_type": "code",
   "execution_count": 151,
   "metadata": {},
   "outputs": [],
   "source": [
    "import BHC\n",
    "p = simulate_data.shape[1]\n",
    "likelihood = log_Multinorm_post_marginal_likelihood(mu_0 = np.zeros(p), kappa_0 = 1, nu_0 = p + 1, Psi_0 = np.eye(p))\n",
    "BHC_clusters, rks = BHC_cython(simulate_data, likelihood, 1)\n",
    "\n",
    "clust_n = simulate_data.shape[0] - next(x for x, val in enumerate(rks) if val < 0.5) + 1\n",
    "purity_BHC_simu = np.mean(purity_score(simu_true_cluster, BHC_clusters[-clust_n]))"
   ]
  },
  {
   "cell_type": "code",
   "execution_count": 155,
   "metadata": {},
   "outputs": [
    {
     "data": {
      "image/png": "[encoded data removed]",
      "text/plain": [
       "<Figure size 432x288 with 1 Axes>"
      ]
     },
     "metadata": {
      "needs_background": "light"
     },
     "output_type": "display_data"
    }
   ],
   "source": [
    "plt.scatter(simulate_data[:, 0], simulate_data[:, 1], c = BHC_clusters[-clust_n], s = 50)\n",
    "plt.title(\"BHC on simulated data\")\n",
    "plt.show()"
   ]
  },
  {
   "cell_type": "markdown",
   "metadata": {},
   "source": [
    "We compare the speeds of the original and the optimized algorithms. As one can see below, the optimized algorithm using Cython is faster by about 5%. "
   ]
  },
  {
   "cell_type": "code",
   "execution_count": 156,
   "metadata": {},
   "outputs": [
    {
     "name": "stdout",
     "output_type": "stream",
     "text": [
      "24.8 s ± 1.07 s per loop (mean ± std. dev. of 3 runs, 1 loop each)\n"
     ]
    }
   ],
   "source": [
    "%timeit -r3 -n1 BHC.BHC(simulate_data, likelihood, 1)"
   ]
  },
  {
   "cell_type": "code",
   "execution_count": 157,
   "metadata": {},
   "outputs": [
    {
     "name": "stdout",
     "output_type": "stream",
     "text": [
      "23.8 s ± 234 ms per loop (mean ± std. dev. of 3 runs, 1 loop each)\n"
     ]
    }
   ],
   "source": [
    "%timeit -r3 -n1 BHC_cython(simulate_data, likelihood, 1)"
   ]
  },
  {
   "cell_type": "markdown",
   "metadata": {},
   "source": [
    "### Applications to real datasets\n",
    "We tested our BHC algorithm on subsets of the glass dataset mentioned in the original paper, as well as the famous iris dataset by Fisher. The mean of cluster purity scores for the glass dataset is 85% and 77% for the iris dataset."
   ]
  },
  {
   "cell_type": "code",
   "execution_count": 174,
   "metadata": {},
   "outputs": [],
   "source": [
    "glass = pd.read_csv(\"data/glass.data\", index_col=0, header=None)\n",
    "iris = pd.read_csv(\"data/iris.data\", header=None)\n",
    "glass_x = np.asarray(glass.iloc[:, 0:9])\n",
    "glass_y = np.asarray(glass.iloc[:, 9])\n",
    "iris_x = np.asarray(iris.iloc[:, 0:4])\n",
    "iris_y = np.asarray(iris.iloc[:, 4])"
   ]
  },
  {
   "cell_type": "code",
   "execution_count": 176,
   "metadata": {},
   "outputs": [],
   "source": [
    "sample_index_glass = np.random.choice(glass_x.shape[0], 100, replace = False)\n",
    "glass_x = glass_x[sample_index_glass, :]\n",
    "glass_y = glass_y[sample_index_glass, ]\n",
    "\n",
    "sample_index_iris = np.random.choice(iris.shape[0], 50, replace = False)\n",
    "iris_x = iris_x[sample_index_iris, :]\n",
    "iris_y = iris_y[sample_index_iris, ]"
   ]
  },
  {
   "cell_type": "code",
   "execution_count": 177,
   "metadata": {},
   "outputs": [],
   "source": [
    "p = glass_x.shape[1]\n",
    "likelihood = log_Multinorm_post_marginal_likelihood(mu_0 = np.zeros(p), kappa_0 = 1, nu_0 = p + 1, Psi_0 = np.eye(p))\n",
    "glass_BHC_clusters, glass_rks = BHC_cython(glass_x, likelihood, 1)\n",
    "\n",
    "clust_n_glass = glass_x.shape[0] - next(x for x, val in enumerate(glass_rks) if val < 0.5) + 1\n",
    "purity_BHC_glass = np.mean(purity_score(glass_y, glass_BHC_clusters[-clust_n_glass]))"
   ]
  },
  {
   "cell_type": "code",
   "execution_count": 181,
   "metadata": {},
   "outputs": [],
   "source": [
    "iris = pd.read_csv(\"data/iris.data\", header=None)\n",
    "iris_x = np.asarray(iris.iloc[:, 0:4])\n",
    "iris_y = np.asarray(iris.iloc[:, 4])\n",
    "sample_index_iris = np.random.choice(iris.shape[0], 50, replace = False)\n",
    "iris_x = iris_x[sample_index_iris, :]\n",
    "iris_y = iris_y[sample_index_iris, ]"
   ]
  },
  {
   "cell_type": "code",
   "execution_count": 182,
   "metadata": {},
   "outputs": [],
   "source": [
    "p = iris_x.shape[1]\n",
    "likelihood = log_Multinorm_post_marginal_likelihood(mu_0 = np.zeros(p), kappa_0 = 1, nu_0 = p + 1, Psi_0 = np.eye(p))\n",
    "iris_BHC_clusters, iris_rks = BHC_cython(iris_x, likelihood, 1)\n",
    "\n",
    "clust_n_iris = iris_x.shape[0] - next(x for x, val in enumerate(iris_rks) if val < 0.5) + 1\n",
    "purity_BHC_iris = np.mean(purity_score(iris_y, iris_BHC_clusters[-clust_n_iris]))"
   ]
  },
  {
   "cell_type": "markdown",
   "metadata": {},
   "source": [
    "### Comparative analysis with competing algorithms\n",
    "In this section, we will apply the traditional hierarchical clustering with single linkage and K-means clustering to our simulated and real world datasets and compare their performance with the Bayesian hierarchical clustering algorithm we implemented."
   ]
  },
  {
   "cell_type": "code",
   "execution_count": 185,
   "metadata": {},
   "outputs": [],
   "source": [
    "#hierarchical clustering on simulated dataset\n",
    "from scipy.cluster.hierarchy import linkage, cut_tree\n",
    "HC = linkage(simulate_data, 'single')\n",
    "HC_cluster = cut_tree(HC, clust_n)\n",
    "purity_HC_simu = np.mean(purity_score(simu_true_cluster, HC_cluster.flatten()))\n",
    "\n",
    "#k-means clustering on simulated dataset\n",
    "from sklearn.cluster import KMeans\n",
    "kmeans = KMeans(n_clusters = clust_n, random_state=0).fit(simulate_data)\n",
    "kmeans_cluster = kmeans.labels_\n",
    "purity_KM_simu = np.mean(purity_score(simu_true_cluster, kmeans_cluster))\n",
    "\n",
    "#hierarchical clustering on glass dataset\n",
    "HC = linkage(glass_x, 'single')\n",
    "HC_cluster = cut_tree(HC, clust_n_glass)\n",
    "purity_HC_glass = np.mean(purity_score(glass_y, HC_cluster.flatten()))\n",
    "\n",
    "#k-means clustering on glass dataset\n",
    "kmeans = KMeans(n_clusters = clust_n_glass, random_state=0).fit(glass_x)\n",
    "kmeans_cluster = kmeans.labels_\n",
    "purity_KM_glass = np.mean(purity_score(glass_y, kmeans_cluster))\n",
    "\n",
    "#hierarchical clustering on iris dataset\n",
    "HC = linkage(iris_x, 'single')\n",
    "HC_cluster = cut_tree(HC, clust_n_iris)\n",
    "purity_HC_iris = np.mean(purity_score(iris_y, HC_cluster.flatten()))\n",
    "\n",
    "#k-means clustering on iris dataset\n",
    "kmeans = KMeans(n_clusters = clust_n_iris, random_state=0).fit(iris_x)\n",
    "kmeans_cluster = kmeans.labels_\n",
    "purity_KM_iris = np.mean(purity_score(iris_y, kmeans_cluster))"
   ]
  },
  {
   "cell_type": "code",
   "execution_count": 188,
   "metadata": {},
   "outputs": [
    {
     "data": {
      "text/html": [
       "<div>\n",
       "<style scoped>\n",
       "    .dataframe tbody tr th:only-of-type {\n",
       "        vertical-align: middle;\n",
       "    }\n",
       "\n",
       "    .dataframe tbody tr th {\n",
       "        vertical-align: top;\n",
       "    }\n",
       "\n",
       "    .dataframe thead th {\n",
       "        text-align: right;\n",
       "    }\n",
       "</style>\n",
       "<table border=\"1\" class=\"dataframe\">\n",
       "  <thead>\n",
       "    <tr style=\"text-align: right;\">\n",
       "      <th></th>\n",
       "      <th>Hierarchical clustering</th>\n",
       "      <th>K-means</th>\n",
       "      <th>BHC</th>\n",
       "    </tr>\n",
       "  </thead>\n",
       "  <tbody>\n",
       "    <tr>\n",
       "      <th>Simulated</th>\n",
       "      <td>0.875000</td>\n",
       "      <td>0.852273</td>\n",
       "      <td>0.852273</td>\n",
       "    </tr>\n",
       "    <tr>\n",
       "      <th>Glass</th>\n",
       "      <td>0.846939</td>\n",
       "      <td>0.696703</td>\n",
       "      <td>0.845361</td>\n",
       "    </tr>\n",
       "    <tr>\n",
       "      <th>Iris</th>\n",
       "      <td>0.771429</td>\n",
       "      <td>0.733456</td>\n",
       "      <td>0.771429</td>\n",
       "    </tr>\n",
       "  </tbody>\n",
       "</table>\n",
       "</div>"
      ],
      "text/plain": [
       "           Hierarchical clustering   K-means       BHC\n",
       "Simulated                 0.875000  0.852273  0.852273\n",
       "Glass                     0.846939  0.696703  0.845361\n",
       "Iris                      0.771429  0.733456  0.771429"
      ]
     },
     "execution_count": 188,
     "metadata": {},
     "output_type": "execute_result"
    }
   ],
   "source": [
    "purity_df = np.array([[purity_HC_simu, purity_KM_simu, purity_BHC_simu], \n",
    "                     [purity_HC_glass, purity_KM_glass, purity_BHC_glass],\n",
    "                     [purity_HC_iris, purity_KM_iris, purity_BHC_iris]])\n",
    "purity_df = pd.DataFrame(purity_df, columns = (\"Hierarchical clustering\", \"K-means\", \"BHC\"),\n",
    "                        index = (\"Simulated\", \"Glass\", \"Iris\"))\n",
    "purity_df"
   ]
  },
  {
   "cell_type": "markdown",
   "metadata": {},
   "source": [
    "According to our result, the hierarchical clustering and BHC have higher purity scores than K-means. In contrast, hierarchical clustering and BHC are similar purity scores in every dataset listed in the table. This result is different from the original paper which has BHC as the top performer in most of the dataset. Note, however, that BHC offers a better guidance to choosing the appropriate number of clusters. For this reason, BHC might still be favorable in practice."
   ]
  },
  {
   "cell_type": "markdown",
   "metadata": {},
   "source": [
    "### Conclusion"
   ]
  },
  {
   "cell_type": "markdown",
   "metadata": {
    "collapsed": true
   },
   "source": [
    "We implemented Bayesian hierarchical clustering to assess the superiority of the algorithm to the other known traditional hierarchical clustering and K-means clustering using the metric known as the cluster purity scores. \n",
    "\n",
    "In contrast to the original paper, we observed that BHC is not superior to the traditional hierarchical clustering in terms of the purity scores. However, with the natural choice of appropriate number of clusters and the nature of a probabilistic model, BHC may be more attractive to those who want to algorithm to provide to assist in choosing the number of clusters and predict the probability of a new data being in the existing cluster."
   ]
  },
  {
   "cell_type": "markdown",
   "metadata": {},
   "source": [
    "### References"
   ]
  },
  {
   "cell_type": "markdown",
   "metadata": {},
   "source": [
    "Heller, K. A., & Ghahramani, Z. (2005). Bayesian Hierarchical Clustering. Neuroscience, 6(section 2), 297–304. doi:10.1145/1102351.1102389\n",
    "\n",
    "Dua, D. and Graff, C. (2019). UCI Machine Learning Repository [http://archive.ics.uci.edu/ml]. Irvine, CA: University of California, School of Information and Computer Science."
   ]
  }
 ],
 "metadata": {
  "kernelspec": {
   "display_name": "Python 3",
   "language": "python",
   "name": "python3"
  },
  "language_info": {
   "codemirror_mode": {
    "name": "ipython",
    "version": 3
   },
   "file_extension": ".py",
   "mimetype": "text/x-python",
   "name": "python",
   "nbconvert_exporter": "python",
   "pygments_lexer": "ipython3",
   "version": "3.7.3"
  }
 },
 "nbformat": 4,
 "nbformat_minor": 2
}
