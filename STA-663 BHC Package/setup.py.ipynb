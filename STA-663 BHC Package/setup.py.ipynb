{
 "cells": [
  {
   "cell_type": "code",
   "execution_count": 1,
   "metadata": {},
   "outputs": [],
   "source": [
    "from setuptools import setup"
   ]
  },
  {
   "cell_type": "code",
   "execution_count": null,
   "metadata": {},
   "outputs": [],
   "source": [
    "setup(\n",
    "    name = \"STA-663 BHC Package\",\n",
    "    version = \"1.0\",\n",
    "    description = \"A Python package to generate Bayesian hierarchical clusters to a supplied data\",\n",
    "    authors = \"Eric Su and Min Chul Kim\",\n",
    "    url = https://github.com/Eric-Su-2718/STA663-Final-Project,\n",
    "    package = [\"STA-663 BHC Package\"],\n",
    "    install_requires = [\n",
    "        \"numpy\", \n",
    "        \"itertools\",\n",
    "        \"scipy.special\"\n",
    "    ]\n",
    ")"
   ]
  }
 ],
 "metadata": {
  "kernelspec": {
   "display_name": "Python 3",
   "language": "python",
   "name": "python3"
  },
  "language_info": {
   "codemirror_mode": {
    "name": "ipython",
    "version": 3
   },
   "file_extension": ".py",
   "mimetype": "text/x-python",
   "name": "python",
   "nbconvert_exporter": "python",
   "pygments_lexer": "ipython3",
   "version": "3.7.3"
  }
 },
 "nbformat": 4,
 "nbformat_minor": 2
}
