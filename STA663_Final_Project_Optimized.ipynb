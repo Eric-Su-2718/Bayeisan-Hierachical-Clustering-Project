{
 "cells": [
  {
   "cell_type": "code",
   "execution_count": 31,
   "metadata": {
    "collapsed": true
   },
   "outputs": [],
   "source": [
    "import numpy as np\n",
    "import itertools as it\n",
    "from scipy.special import gamma\n",
    "from scipy.special import multigammaln\n",
    "\n",
    "def BHC_vanilla(data, likelihood, alpha):\n",
    "    \"\"\"`\n",
    "    Bayesian hierarchical clustering algorithm, direct implementation from paper.\n",
    "    \n",
    "    Parameters\n",
    "    ----------\n",
    "    data : 2D numpy array\n",
    "        Data with rows as observations and columns as variables.\n",
    "    likelihood : function\n",
    "        Function that returns the marginal likelihood of data in BHC model.\n",
    "    alpha : float\n",
    "        Concentration parameter in model.\n",
    "        \n",
    "    Returns\n",
    "    -------\n",
    "    T_record : list(list(int))\n",
    "        Cluster structure in each iteration.\n",
    "    rk_record : list(float)\n",
    "        Merge probability (rk) in each iteration.\n",
    "    \"\"\"\n",
    "    \n",
    "    n = data.shape[0]\n",
    "    p = data.shape[1]\n",
    "    c = n\n",
    "    D = dict((index, Node(obs.reshape(-1, p), alpha)) for index, obs in enumerate(data))\n",
    "    T = list(range(n))\n",
    "    T_record = list(T)\n",
    "    rk_record = [1]\n",
    "    \n",
    "    while c > 1:\n",
    "        max_rk = float('-Inf')\n",
    "        node_merge = None\n",
    "        left_merge = -1\n",
    "        right_merge = -1\n",
    "        \n",
    "        for i, j in it.combinations(D.keys(), 2):\n",
    "            Di = D[i]\n",
    "            Dj = D[j]\n",
    "            Dk = Node.merge_node(Di, Dj)\n",
    "            \n",
    "            likelihood_i = likelihood(Di.data)\n",
    "            likelihood_j = likelihood(Dj.data)\n",
    "            likelihood_k = likelihood(Dk.data)\n",
    "            \n",
    "            pi_k = Dk.pi_k\n",
    "\n",
    "            rk = (pi_k * likelihood_k) / (pi_k * likelihood_k + (1 - pi_k) * likelihood_i * likelihood_j)\n",
    "\n",
    "            if rk > max_rk:\n",
    "                max_rk = rk\n",
    "                node_merge = Dk\n",
    "                left_merge = i\n",
    "                right_merge = j\n",
    "        \n",
    "        #delete merged nodes and store new node\n",
    "        del D[right_merge]\n",
    "        D[left_merge] = node_merge\n",
    "\n",
    "        #store the current tree structure and value of rk\n",
    "        for item_index, node_index in enumerate(T):\n",
    "            if node_index == right_merge:\n",
    "                T[item_index] = left_merge\n",
    "        T_record.append(list(T))\n",
    "        rk_record.append(max_rk)\n",
    "        \n",
    "        c -= 1\n",
    "        \n",
    "    return T_record, rk_record\n",
    "        \n",
    "\n",
    "class Node(object):\n",
    "    \"\"\"\n",
    "    Node class used in Bayesian hierarchical clustering algorithm. Main purpose is to store values of dk and pi_k for each node.\n",
    "    \n",
    "    Attributes\n",
    "    ----------\n",
    "    data : 2D numpy array\n",
    "        Data with rows as observations and columns as variables.\n",
    "    dk : float\n",
    "        Some kind of number for computing probabilities\n",
    "    pi_k : float\n",
    "        For to compute merge probability\n",
    "        \n",
    "    Methods\n",
    "    -------\n",
    "    __init__(self, data, likelihood, alpha = 1)\n",
    "        Instantiation operation.\n",
    "    merge_node(cls, node1, node2, alpha = 1)\n",
    "        Method that merges two Nodes into one new Node and return the new Node.\n",
    "    \"\"\"\n",
    "    \n",
    "    def __init__(self, data, alpha = 1, dk = 1, pi_k = 1):\n",
    "        \"\"\"\n",
    "        Instantiation operation.\n",
    "        \n",
    "        Parameters\n",
    "        ----------\n",
    "        data : 2D numpy array\n",
    "            Data with rows as observations and columns as variables.\n",
    "        likelihood : function\n",
    "            Function that returns the likelihood of data, sampling distribution in BHC model.\n",
    "        alpha : float\n",
    "            Concentration parameter in model.\n",
    "        log_dk : float\n",
    "            Cached probability variable. Do not define if the node is a leaf.\n",
    "        log_pi : float\n",
    "            Cached probability variable. Do not define if the node is a leaf.\n",
    "        \"\"\"\n",
    "        \n",
    "        #initialized according to paper\n",
    "        self.data = data\n",
    "        self.dk = dk\n",
    "        self.pi_k = pi_k\n",
    "\n",
    "    @classmethod\n",
    "    def merge_node(cls, node1, node2, alpha = 1):\n",
    "        \"\"\"\n",
    "        Merge two Nodes into one new Node and return the new Node.\n",
    "        \n",
    "        Parameters\n",
    "        ----------\n",
    "        node1 : Node\n",
    "            First Node.\n",
    "        node2 : Node\n",
    "            Second Node.\n",
    "        \"\"\"\n",
    "\n",
    "        data = np.vstack((node1.data, node2.data))\n",
    "\n",
    "        nk = data.shape[0]\n",
    "        dk = alpha * gamma(nk) + node1.dk * node2.dk\n",
    "        pi_k = alpha * gamma(nk) / dk\n",
    "\n",
    "        return cls(data, alpha, dk, pi_k)"
   ]
  },
  {
   "cell_type": "code",
   "execution_count": 44,
   "metadata": {
    "collapsed": true
   },
   "outputs": [],
   "source": [
    "from scipy.stats import multivariate_normal\n",
    "def Multinorm_post_marginal_likelihood(mu_0, kappa_0, nu_0, Psi_0):\n",
    "    \"\"\"\n",
    "    Returns a function that computes the marginal likelihood \n",
    "    for a Normal-inverse-Wishart model with specifies data and prior parameters.\n",
    "    \"\"\"\n",
    "        \n",
    "    def marginal_likelihood(data):\n",
    "        \n",
    "        n = data.shape[0]\n",
    "        p = data.shape[1]\n",
    "        xbar = data.mean(axis = 0)\n",
    "    \n",
    "        #update posterior parameters\n",
    "        kappa_n = kappa_0 + n\n",
    "        mu_n = (kappa_0 * mu_0 + n * xbar) / kappa_n\n",
    "        nu_n = nu_0 + n\n",
    "    \n",
    "        if (n == 1):\n",
    "            C = np.zeros((p, p))\n",
    "        else:\n",
    "            C = (n - 1) * np.cov(data.T)\n",
    "        Psi_n = Psi_0 + C + ((n * kappa_0) / (kappa_n)) * np.dot((xbar - mu_0).reshape(-1, p).T, (xbar - mu_0).reshape(-1, p))\n",
    "    \n",
    "        return (1 / np.pi**(n * p / 2)) * (np.exp(multigammaln(nu_n / 2, p)) / np.exp(multigammaln(nu_0 / 2, p))) * (np.linalg.det(Psi_0)**(nu_0 / 2) / np.linalg.det(Psi_n)**(nu_n / 2)) * (kappa_0 / kappa_n)**(p / 2)\n",
    "\n",
    "    return marginal_likelihood"
   ]
  },
  {
   "cell_type": "code",
   "execution_count": 50,
   "metadata": {
    "collapsed": true
   },
   "outputs": [],
   "source": [
    "n = 10\n",
    "y1 = np.random.multivariate_normal([0, 0], np.eye(2) * 0.1, n)\n",
    "y2 = np.random.multivariate_normal([5, 0], np.eye(2) * 0.3, n)\n",
    "y3 = np.random.multivariate_normal([0, 5], np.eye(2) * 0.5, n)\n",
    "y4 = np.random.multivariate_normal([-5, 5], np.eye(2) * 0.7, n)\n",
    "y5 = np.random.multivariate_normal([0, -5], np.eye(2) * 0.9, n)\n",
    "data = np.vstack((y1, y2, y3, y4, y5))\n",
    "\n",
    "likelihood = Multinorm_post_marginal_likelihood(mu_0 = np.zeros(2), kappa_0 = 1, nu_0 = 2 + 1, Psi_0 = np.eye(2))\n",
    "\n",
    "clusters, rks = BHC_vanilla(data, likelihood, 1)\n",
    "clust_n = next(x for x, val in enumerate(rks) if val < 0.5)"
   ]
  },
  {
   "cell_type": "code",
   "execution_count": 34,
   "metadata": {},
   "outputs": [
    {
     "data": {
      "text/plain": [
       "5"
      ]
     },
     "execution_count": 34,
     "metadata": {},
     "output_type": "execute_result"
    }
   ],
   "source": [
    "clust_n = data.shape[0] - next(x for x, val in enumerate(rks) if val < 0.5) + 1\n",
    "clust_n"
   ]
  },
  {
   "cell_type": "code",
   "execution_count": 35,
   "metadata": {},
   "outputs": [
    {
     "data": {
      "image/png": "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\n",
      "text/plain": [
       "<Figure size 432x288 with 1 Axes>"
      ]
     },
     "metadata": {
      "needs_background": "light"
     },
     "output_type": "display_data"
    }
   ],
   "source": [
    "import matplotlib.pyplot as plt\n",
    "\n",
    "plt.scatter(data[:, 0], data[:, 1], c = clusters[-clust_n], s = 50)\n",
    "plt.show()"
   ]
  },
  {
   "cell_type": "markdown",
   "metadata": {},
   "source": [
    "Cython"
   ]
  },
  {
   "cell_type": "code",
   "execution_count": 13,
   "metadata": {},
   "outputs": [
    {
     "name": "stdout",
     "output_type": "stream",
     "text": [
      "The cython extension is already loaded. To reload it, use:\n",
      "  %reload_ext cython\n"
     ]
    }
   ],
   "source": [
    "%load_ext cython"
   ]
  },
  {
   "cell_type": "code",
   "execution_count": 58,
   "metadata": {},
   "outputs": [],
   "source": [
    "%%cython\n",
    "\n",
    "import numpy as np\n",
    "import itertools as it\n",
    "from scipy.special import gamma\n",
    "from scipy.special import multigammaln\n",
    "from numpy.math cimport INFINITY\n",
    "cimport numpy as np\n",
    "\n",
    "\n",
    "def BHC_cython(data, likelihood, alpha):\n",
    "    \"\"\"`\n",
    "    Bayesian hierarchical clustering algorithm, direct implementation from paper.\n",
    "    \n",
    "    Parameters\n",
    "    ----------\n",
    "    data : 2D numpy array\n",
    "        Data with rows as observations and columns as variables.\n",
    "    likelihood : function\n",
    "        Function that returns the marginal likelihood of data in BHC model.\n",
    "    alpha : float\n",
    "        Concentration parameter in model.\n",
    "        \n",
    "    Returns\n",
    "    -------\n",
    "    T_record : list(list(int))\n",
    "        Cluster structure in each iteration.\n",
    "    rk_record : list(float)\n",
    "        Merge probability (rk) in each iteration.\n",
    "    \"\"\"\n",
    "    \n",
    "    cdef int n, c, i, j\n",
    "    cdef float max_rk\n",
    "    cdef int merge_index1, merge_index2\n",
    "    cdef double pi_k, rk\n",
    "    cdef int node_index, item_index\n",
    "    cdef double likelihood_i, likelihood_j, likelihood_k\n",
    "    cdef T_record, rk_record\n",
    "    \n",
    "    n = data.shape[0]\n",
    "    p = data.shape[1]\n",
    "    c = n\n",
    "    D = dict((index, Node(obs.reshape(-1, p), alpha)) for index, obs in enumerate(data))\n",
    "    T = list(range(n))\n",
    "    T_record = list(T)\n",
    "    rk_record = [1]\n",
    "    \n",
    "    while c > 1:\n",
    "        max_rk = -INFINITY\n",
    "        node_merge = None\n",
    "        left_merge = -1\n",
    "        right_merge = -1\n",
    "        \n",
    "        for i, j in it.combinations(D.keys(), 2):\n",
    "            Di = D[i]\n",
    "            Dj = D[j]\n",
    "            Dk = Node.merge_node(Di, Dj)\n",
    "            \n",
    "            likelihood_i = likelihood(Di.data)\n",
    "            likelihood_j = likelihood(Dj.data)\n",
    "            likelihood_k = likelihood(Dk.data)\n",
    "            \n",
    "            pi_k = Dk.pi_k\n",
    "\n",
    "            rk = (pi_k * likelihood_k) / (pi_k * likelihood_k + (1 - pi_k) * likelihood_i * likelihood_j)\n",
    "\n",
    "            if rk > max_rk:\n",
    "                max_rk = rk\n",
    "                node_merge = Dk\n",
    "                left_merge = i\n",
    "                right_merge = j\n",
    "        \n",
    "        #delete merged nodes and store new node\n",
    "        del D[right_merge]\n",
    "        D[left_merge] = node_merge\n",
    "\n",
    "        #store the current tree structure and value of rk\n",
    "        for item_index, node_index in enumerate(T):\n",
    "            if node_index == right_merge:\n",
    "                T[item_index] = left_merge\n",
    "        T_record.append(list(T))\n",
    "        rk_record.append(max_rk)\n",
    "        \n",
    "        c -= 1\n",
    "        \n",
    "    return T_record, rk_record\n",
    "        \n",
    "\n",
    "class Node(object):\n",
    "    \"\"\"\n",
    "    Node class used in Bayesian hierarchical clustering algorithm. Main purpose is to store values of dk and pi_k for each node.\n",
    "    \n",
    "    Attributes\n",
    "    ----------\n",
    "    data : 2D numpy array\n",
    "        Data with rows as observations and columns as variables.\n",
    "    dk : float\n",
    "        Some kind of number for computing probabilities\n",
    "    pi_k : float\n",
    "        For to compute merge probability\n",
    "        \n",
    "    Methods\n",
    "    -------\n",
    "    __init__(self, data, likelihood, alpha = 1)\n",
    "        Instantiation operation.\n",
    "    merge_node(cls, node1, node2, alpha = 1)\n",
    "        Method that merges two Nodes into one new Node and return the new Node.\n",
    "    \"\"\"\n",
    "    \n",
    "    def __init__(self, data, alpha = 1, dk = 1, pi_k = 1):\n",
    "        \"\"\"\n",
    "        Instantiation operation.\n",
    "        \n",
    "        Parameters\n",
    "        ----------\n",
    "        data : 2D numpy array\n",
    "            Data with rows as observations and columns as variables.\n",
    "        likelihood : function\n",
    "            Function that returns the likelihood of data, sampling distribution in BHC model.\n",
    "        alpha : float\n",
    "            Concentration parameter in model.\n",
    "        log_dk : float\n",
    "            Cached probability variable. Do not define if the node is a leaf.\n",
    "        log_pi : float\n",
    "            Cached probability variable. Do not define if the node is a leaf.\n",
    "        \"\"\"\n",
    "        \n",
    "        #initialized according to paper\n",
    "        self.data = data\n",
    "        self.dk = dk\n",
    "        self.pi_k = pi_k\n",
    "\n",
    "    @classmethod\n",
    "    def merge_node(cls, node1, node2, alpha = 1):\n",
    "        \"\"\"\n",
    "        Merge two Nodes into one new Node and return the new Node.\n",
    "        \n",
    "        Parameters\n",
    "        ----------\n",
    "        node1 : Node\n",
    "            First Node.\n",
    "        node2 : Node\n",
    "            Second Node.\n",
    "        \"\"\"\n",
    "\n",
    "        cdef np.ndarray[dtype = double, ndim = 2] data\n",
    "        cdef double nk\n",
    "        \n",
    "        data = np.vstack((node1.data, node2.data))\n",
    "\n",
    "        nk = data.shape[0]\n",
    "        dk = alpha * gamma(nk) + node1.dk * node2.dk\n",
    "        pi_k = alpha * gamma(nk) / dk\n",
    "\n",
    "        return cls(data, alpha, dk, pi_k)"
   ]
  },
  {
   "cell_type": "code",
<<<<<<< HEAD
   "execution_count": 59,
   "metadata": {},
=======
   "execution_count": 55,
   "metadata": {
    "collapsed": true
   },
>>>>>>> 40c3db477f797c02aad036bc3249039a4cba78eb
   "outputs": [],
   "source": [
    "n = 10\n",
    "y1 = np.random.multivariate_normal([0, 0], np.eye(2) * 0.1, n)\n",
    "y2 = np.random.multivariate_normal([5, 0], np.eye(2) * 0.3, n)\n",
    "y3 = np.random.multivariate_normal([0, 5], np.eye(2) * 0.5, n)\n",
    "y4 = np.random.multivariate_normal([-5, 5], np.eye(2) * 0.7, n)\n",
    "y5 = np.random.multivariate_normal([0, -5], np.eye(2) * 0.9, n)\n",
    "data = np.vstack((y1, y2, y3, y4, y5))\n",
    "\n",
    "likelihood = Multinorm_post_marginal_likelihood(mu_0 = np.zeros(2), kappa_0 = 1, nu_0 = 2 + 1, Psi_0 = np.eye(2))\n",
    "\n",
    "clusters, rks = BHC_cython(data, likelihood, 1)\n",
    "clust_n = next(x for x, val in enumerate(rks) if val < 0.5)"
   ]
  },
  {
   "cell_type": "code",
   "execution_count": 60,
   "metadata": {},
   "outputs": [
    {
     "data": {
      "text/plain": [
       "5"
      ]
     },
     "execution_count": 60,
     "metadata": {},
     "output_type": "execute_result"
    }
   ],
   "source": [
    "clust_n = data.shape[0] - next(x for x, val in enumerate(rks) if val < 0.5) + 1\n",
    "clust_n"
   ]
  },
  {
   "cell_type": "code",
   "execution_count": 61,
   "metadata": {},
   "outputs": [
    {
     "data": {
      "image/png": "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\n",
      "text/plain": [
       "<Figure size 432x288 with 1 Axes>"
      ]
     },
     "metadata": {
      "needs_background": "light"
     },
     "output_type": "display_data"
    }
   ],
   "source": [
    "import matplotlib.pyplot as plt\n",
    "\n",
    "plt.scatter(data[:, 0], data[:, 1], c = clusters[-clust_n], s = 50)\n",
    "plt.show()"
   ]
  },
  {
   "cell_type": "code",
   "execution_count": 63,
   "metadata": {},
   "outputs": [
    {
     "name": "stdout",
     "output_type": "stream",
     "text": [
      "27.5 s ± 3.19 s per loop (mean ± std. dev. of 3 runs, 1 loop each)\n"
     ]
    }
   ],
   "source": [
    "%timeit -r3 -n1 BHC_vanilla(data, likelihood, 1)"
   ]
  },
  {
   "cell_type": "code",
   "execution_count": 62,
   "metadata": {},
   "outputs": [
    {
     "name": "stdout",
     "output_type": "stream",
     "text": [
      "22.5 s ± 256 ms per loop (mean ± std. dev. of 3 runs, 1 loop each)\n"
     ]
    }
   ],
   "source": [
    "%timeit -r3 -n1 BHC_cython(data, likelihood, 1)"
   ]
  },
  {
   "cell_type": "code",
   "execution_count": null,
   "metadata": {
    "collapsed": true
   },
   "outputs": [],
   "source": []
  }
 ],
 "metadata": {
  "kernelspec": {
   "display_name": "Python 3",
   "language": "python",
   "name": "python3"
  },
  "language_info": {
   "codemirror_mode": {
    "name": "ipython",
    "version": 3
   },
   "file_extension": ".py",
   "mimetype": "text/x-python",
   "name": "python",
   "nbconvert_exporter": "python",
   "pygments_lexer": "ipython3",
   "version": "3.6.8"
  }
 },
 "nbformat": 4,
 "nbformat_minor": 2
}
