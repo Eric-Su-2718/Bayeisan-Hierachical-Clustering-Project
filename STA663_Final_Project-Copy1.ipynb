{
 "cells": [
  {
   "cell_type": "code",
   "execution_count": 16,
   "metadata": {
    "collapsed": true
   },
   "outputs": [],
   "source": [
    "import numpy as np\n",
    "import itertools as it\n",
    "from scipy.special import gamma\n",
    "from scipy.special import multigammaln\n",
    "\n",
    "def BHC_vanilla(data, likelihood, alpha):\n",
    "    \"\"\"\n",
    "    Bayesian hierarchical clustering algorithm, direct implementation from paper.\n",
    "    \n",
    "    Parameters\n",
    "    ----------\n",
    "    data : 2D numpy array\n",
    "        Data with rows as observations and columns as variables.\n",
    "    likelihood : function\n",
    "        Function that returns the marginal likelihood of data in BHC model.\n",
    "    alpha : float\n",
    "        Concentration parameter in model.\n",
    "        \n",
    "    Returns\n",
    "    -------\n",
    "    T_record : list(list(int))\n",
    "        Cluster structure in each iteration.\n",
    "    rk_record : list(float)\n",
    "        Merge probability (rk) in each iteration.\n",
    "    \"\"\"\n",
    "    \n",
    "    n = data.shape[0]\n",
    "    p = data.shape[1]\n",
    "    c = n\n",
    "    D = dict((index, Node(obs.reshape(-1, p), alpha)) for index, obs in enumerate(data))\n",
    "    T = list(range(n))\n",
    "    T_record = list(T)\n",
    "    rk_record = [1]\n",
    "    \n",
    "    while c > 1:\n",
    "        max_rk = float('-Inf')\n",
    "        node_merge = None\n",
    "        left_merge = -1\n",
    "        right_merge = -1\n",
    "        \n",
    "        for i, j in it.combinations(D.keys(), 2):\n",
    "            Di = D[i]\n",
    "            Dj = D[j]\n",
    "            Dk = Node.merge_node(Di, Dj)\n",
    "            \n",
    "            likelihood_i = likelihood(Di.data)\n",
    "            likelihood_j = likelihood(Dj.data)\n",
    "            likelihood_k = likelihood(Dk.data)\n",
    "            \n",
    "            pi_k = Dk.pi_k\n",
    "\n",
    "            rk = (pi_k * likelihood_k) / (pi_k * likelihood_k + (1 - pi_k) * likelihood_i * likelihood_j)\n",
    "\n",
    "            if rk > max_rk:\n",
    "                max_rk = rk\n",
    "                node_merge = Dk\n",
    "                left_merge = i\n",
    "                right_merge = j\n",
    "        \n",
    "        #delete merged nodes and store new node\n",
    "        del D[right_merge]\n",
    "        D[left_merge] = node_merge\n",
    "\n",
    "        #store the current tree structure and value of rk\n",
    "        for item_index, node_index in enumerate(T):\n",
    "            if node_index == right_merge:\n",
    "                T[item_index] = left_merge\n",
    "        T_record.append(list(T))\n",
    "        rk_record.append(max_rk)\n",
    "        \n",
    "        c -= 1\n",
    "        \n",
    "    return T_record, rk_record\n",
    "        \n",
    "\n",
    "class Node(object):\n",
    "    \"\"\"\n",
    "    Node class used in Bayesian hierarchical clustering algorithm. Main purpose is to store values of dk and pi_k for each node.\n",
    "    \n",
    "    Attributes\n",
    "    ----------\n",
    "    data : 2D numpy array\n",
    "        Data with rows as observations and columns as variables.\n",
    "    dk : float\n",
    "        Some kind of number for computing probabilities\n",
    "    pi_k : float\n",
    "        For to compute merge probability\n",
    "        \n",
    "    Methods\n",
    "    -------\n",
    "    __init__(self, data, likelihood, alpha = 1)\n",
    "        Instantiation operation.\n",
    "    merge_node(cls, node1, node2, alpha = 1)\n",
    "        Method that merges two Nodes into one new Node and return the new Node.\n",
    "    \"\"\"\n",
    "    \n",
    "    def __init__(self, data, alpha = 1, dk = 1, pi_k = 1):\n",
    "        \"\"\"\n",
    "        Instantiation operation.\n",
    "        \n",
    "        Parameters\n",
    "        ----------\n",
    "        data : 2D numpy array\n",
    "            Data with rows as observations and columns as variables.\n",
    "        likelihood : function\n",
    "            Function that returns the likelihood of data, sampling distribution in BHC model.\n",
    "        alpha : float\n",
    "            Concentration parameter in model.\n",
    "        log_dk : float\n",
    "            Cached probability variable. Do not define if the node is a leaf.\n",
    "        log_pi : float\n",
    "            Cached probability variable. Do not define if the node is a leaf.\n",
    "        \"\"\"\n",
    "        \n",
    "        #initialized according to paper\n",
    "        self.data = data\n",
    "        self.dk = dk\n",
    "        self.pi_k = pi_k\n",
    "\n",
    "    @classmethod\n",
    "    def merge_node(cls, node1, node2, alpha = 1):\n",
    "        \"\"\"\n",
    "        Merge two Nodes into one new Node and return the new Node.\n",
    "        \n",
    "        Parameters\n",
    "        ----------\n",
    "        node1 : Node\n",
    "            First Node.\n",
    "        node2 : Node\n",
    "            Second Node.\n",
    "        \"\"\"\n",
    "\n",
    "        data = np.vstack((node1.data, node2.data))\n",
    "\n",
    "        nk = data.shape[0]\n",
    "        dk = alpha * gamma(nk) + node1.dk * node2.dk\n",
    "        pi_k = alpha * gamma(nk) / dk\n",
    "\n",
    "        return cls(data, alpha, dk, pi_k)"
   ]
  },
  {
   "cell_type": "code",
   "execution_count": 17,
   "metadata": {
    "collapsed": true
   },
   "outputs": [],
   "source": [
    "from scipy.stats import multivariate_normal\n",
    "def Multinorm_post_marginal_likelihood(mu_0, kappa_0, nu_0, Psi_0):\n",
    "    \"\"\"\n",
    "    Returns a function that computes the marginal likelihood \n",
    "    for a Normal-inverse-Wishart model with specifies data and prior parameters.\n",
    "    \"\"\"\n",
    "    \n",
    "    def marginal_likelihood(data):\n",
    "        n = data.shape[0]\n",
    "        p = data.shape[1]\n",
    "        xbar = data.mean(axis = 0)\n",
    "    \n",
    "        #update posterior parameters\n",
    "        kappa_n = kappa_0 + n\n",
    "        mu_n = (kappa_0 * mu_0 + n * xbar) / kappa_n\n",
    "        nu_n = nu_0 + n\n",
    "    \n",
    "        if (n == 1):\n",
    "            C = np.zeros((p, p))\n",
    "        else:\n",
    "            C = (n - 1) * np.cov(data.T)\n",
    "        Psi_n = Psi_0 + C + ((n * kappa_0) / (kappa_n)) * np.dot((xbar - mu_0).reshape(-1, p).T, (xbar - mu_0).reshape(-1, p))\n",
    "    \n",
    "        return (1 / np.pi**(n * p / 2)) * (np.exp(multigammaln(nu_n / 2, p)) / np.exp(multigammaln(nu_0 / 2, p))) * (np.linalg.det(Psi_0)**(nu_0 / 2) / np.linalg.det(Psi_n)**(nu_n / 2)) * (kappa_0 / kappa_n)**(p / 2)\n",
    "\n",
    "    return marginal_likelihood"
   ]
  },
  {
   "cell_type": "code",
   "execution_count": 18,
   "metadata": {},
   "outputs": [],
   "source": [
    "n = 10\n",
    "y1 = np.random.multivariate_normal([0, 0], np.eye(2) * 0.1, n)\n",
    "y2 = np.random.multivariate_normal([5, 0], np.eye(2) * 0.3, n)\n",
    "y3 = np.random.multivariate_normal([0, 5], np.eye(2) * 0.5, n)\n",
    "y4 = np.random.multivariate_normal([-5, 5], np.eye(2) * 0.7, n)\n",
    "y5 = np.random.multivariate_normal([0, -5], np.eye(2) * 0.9, n)\n",
    "data = np.vstack((y1, y2, y3, y4, y5))\n",
    "\n",
    "likelihood = Multinorm_post_marginal_likelihood(mu_0 = np.zeros(2), kappa_0 = 1, nu_0 = 2 + 1, Psi_0 = np.eye(2))\n",
    "\n",
    "clusters, rks = BHC_vanilla(data, likelihood, 1)\n",
    "clust_n = next(x for x, val in enumerate(rks) if val < 0.5)"
   ]
  },
  {
   "cell_type": "code",
   "execution_count": 24,
   "metadata": {},
   "outputs": [
    {
     "data": {
      "text/plain": [
       "5"
      ]
     },
     "execution_count": 24,
     "metadata": {},
     "output_type": "execute_result"
    }
   ],
   "source": [
    "clust_n = data.shape[0] - next(x for x, val in enumerate(rks) if val < 0.5) + 1\n",
    "clust_n"
   ]
  },
  {
   "cell_type": "code",
   "execution_count": 25,
   "metadata": {},
   "outputs": [
    {
     "data": {
      "image/png": "[encoded data removed]",
      "text/plain": [
       "<matplotlib.figure.Figure at 0x1e18bc34358>"
      ]
     },
     "metadata": {},
     "output_type": "display_data"
    }
   ],
   "source": [
    "import matplotlib.pyplot as plt\n",
    "\n",
    "plt.scatter(data[:, 0], data[:, 1], c = clusters[-clust_n], s = 50)\n",
    "plt.show()"
   ]
  },
  {
   "cell_type": "code",
   "execution_count": null,
   "metadata": {
    "collapsed": true
   },
   "outputs": [],
   "source": []
  }
 ],
 "metadata": {
  "kernelspec": {
   "display_name": "Python 3",
   "language": "python",
   "name": "python3"
  },
  "language_info": {
   "codemirror_mode": {
    "name": "ipython",
    "version": 3
   },
   "file_extension": ".py",
   "mimetype": "text/x-python",
   "name": "python",
   "nbconvert_exporter": "python",
   "pygments_lexer": "ipython3",
   "version": "3.7.3"
  }
 },
 "nbformat": 4,
 "nbformat_minor": 2
}
